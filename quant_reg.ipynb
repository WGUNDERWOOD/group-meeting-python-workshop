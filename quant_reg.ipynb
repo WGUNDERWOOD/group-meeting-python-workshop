{
 "cells": [
  {
   "cell_type": "code",
   "execution_count": 6,
   "id": "150f15ba",
   "metadata": {},
   "outputs": [
    {
     "data": {
      "image/png": "[encoded data removed]",
      "text/plain": [
       "<Figure size 640x480 with 1 Axes>"
      ]
     },
     "metadata": {},
     "output_type": "display_data"
    }
   ],
   "source": [
    "## plot quantile loss\n",
    "\n",
    "import numpy as np\n",
    "import matplotlib.pyplot as plt\n",
    "\n",
    "n = 10\n",
    "\n",
    "np.random.seed(1)\n",
    "\n",
    "Y = np.random.randn(n)\n",
    "#Y = np.random.laplace(0, 1, n)\n",
    "#Y = np.random.beta(3, 5, n)\n",
    "\n",
    "def quantile_loss(t, alpha):\n",
    "    return sum( [max(alpha * (Yi - t), (alpha - 1) * (Yi - t)) for Yi in Y] )\n",
    "    ## return np.sum( np.fmax(alpha * (Y - t), (alpha - 1) * (Y - t)) )\n",
    "\n",
    "grid = np.linspace(-2.5, 2.5, 100)\n",
    "alpha = 0.7\n",
    "\n",
    "plt.plot(grid, [quantile_loss(t, alpha) for t in grid])\n",
    "plt.xlabel('grid')\n",
    "plt.scatter(Y, [0]*n, c='r', s=15)\n",
    "plt.ylabel('quantile loss')\n",
    "plt.show()"
   ]
  },
  {
   "cell_type": "code",
   "execution_count": null,
   "id": "f918e71f",
   "metadata": {},
   "outputs": [],
   "source": [
    "## load housing data\n",
    "\n",
    "import pandas as pd\n",
    "import numpy as np\n",
    "\n",
    "house = pd.read_csv(\"rainier_valley_house.csv\")\n",
    "\n",
    "house = house.sample(frac=1).reset_index(drop=True)\n",
    "\n",
    "features = [\n",
    "    \"floors\",\n",
    "    \"grade\",\n",
    "    \"condition\",\n",
    "    \"view\",\n",
    "    \"sqft_living\",\n",
    "    \"sqft_lot\",\n",
    "    \"sqft_basement\",\n",
    "    \"yr_built\",\n",
    "    \"yr_renovated\",\n",
    "    \"bedrooms\",\n",
    "    \"bathrooms\",\n",
    "    \"lat\",\n",
    "    \"long\"\n",
    "]\n",
    "\n",
    "Y = np.array(house['price']/1000)\n",
    "X = np.array(house[features])\n",
    "\n",
    "print(X.shape)\n"
   ]
  },
  {
   "cell_type": "code",
   "execution_count": null,
   "id": "54e44223",
   "metadata": {},
   "outputs": [],
   "source": [
    "## demo of quantile regression\n",
    "\n",
    "from sklearn.preprocessing import StandardScaler\n",
    "from sklearn.linear_model import QuantileRegressor  \n",
    "\n",
    "mean_X = np.mean(X, axis=0)\n",
    "sd_X = np.std(X, axis=0)\n",
    "X_stan = (X - mean_X) / sd_X\n",
    "## scaler = StandardScaler()\n",
    "## X_stan = scaler.fit_transform(X)\n",
    "\n",
    "## X_stan = np.c_[X_stan, np.ones(X_stan.shape[0])]\n",
    "\n",
    "alpha_lo = 0.1\n",
    "alpha_hi = 0.9\n",
    "\n",
    "qr_obj1 = QuantileRegressor(quantile=alpha_lo, alpha=0, solver=\"highs\")\n",
    "qr_obj1.fit(X_stan, Y)\n",
    "\n",
    "print(qr_obj1.coef_)\n",
    "\n",
    "qr_obj2 = QuantileRegressor(quantile=alpha_hi, alpha=0, solver=\"highs\")\n",
    "qr_obj2.fit(X_stan, Y)\n",
    "\n",
    "\n",
    "for j in range(len(features)):\n",
    "    print(f\"{features[j]:<15} {qr_obj1.coef_[j]:<10.2f} {qr_obj2.coef_[j]:<10.2f}\")\n",
    "\n"
   ]
  },
  {
   "cell_type": "code",
   "execution_count": null,
   "id": "df22a12e",
   "metadata": {},
   "outputs": [],
   "source": [
    "## cross validation\n",
    "\n",
    "nfold = 5\n",
    "\n",
    "n_total = 500\n",
    "\n",
    "ix_mat = np.arange(n_total).reshape(nfold, -1)\n",
    "\n",
    "coverages = [0] * nfold\n",
    "\n",
    "for i in range(nfold):\n",
    "    test_ixs = ix_mat[i, :]\n",
    "    \n",
    "    X_test = X_stan[test_ixs, :]\n",
    "    Y_test = Y[test_ixs]\n",
    "    \n",
    "    train_ixs = [j for j in range(n_total) if j not in test_ixs]\n",
    "    \n",
    "    X_train = X_stan[train_ixs, :]\n",
    "    Y_train = Y[train_ixs]\n",
    "    \n",
    "    qr_obj1 = QuantileRegressor(quantile=alpha_lo, alpha=0, solver=\"highs\")\n",
    "    qr_obj1.fit(X_train, Y_train)\n",
    "    \n",
    "    pred_quant = qr_obj1.predict(X_test)\n",
    "    \n",
    "    coverages[i] = np.mean((Y_test >= pred_quant))\n",
    "    \n",
    "print(f\"CV coverage: {np.mean(coverages):<.2f}\")"
   ]
  }
 ],
 "metadata": {
  "kernelspec": {
   "display_name": "Python 3 (ipykernel)",
   "language": "python",
   "name": "python3"
  },
  "language_info": {
   "codemirror_mode": {
    "name": "ipython",
    "version": 3
   },
   "file_extension": ".py",
   "mimetype": "text/x-python",
   "name": "python",
   "nbconvert_exporter": "python",
   "pygments_lexer": "ipython3",
   "version": "3.10.13"
  }
 },
 "nbformat": 4,
 "nbformat_minor": 5
}
