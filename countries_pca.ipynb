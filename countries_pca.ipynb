{
 "cells": [
  {
   "cell_type": "code",
   "execution_count": null,
   "id": "a13c642e",
   "metadata": {},
   "outputs": [],
   "source": [
    "import pandas as pd\n",
    "import numpy as np\n",
    "import matplotlib.pyplot as plt\n",
    "\n",
    "\n",
    "countries = pd.read_csv(\"Country-data.csv\")\n",
    "\n",
    "print(countries.head())\n",
    "\n",
    "feats = countries.columns[1:]\n",
    "\n",
    "print(feats)\n"
   ]
  },
  {
   "cell_type": "code",
   "execution_count": null,
   "id": "bdb5ccfc",
   "metadata": {},
   "outputs": [],
   "source": [
    "from sklearn.preprocessing import scale\n",
    "from scipy.linalg import svd\n",
    "\n",
    "X = countries.iloc[:, 1:].values\n",
    "\n",
    "X_scaled = scale(X)\n",
    "\n",
    "U, s, Vt = svd(X_scaled, full_matrices = False)\n",
    "\n",
    "d = 2\n",
    "Ud = U[:, :d]\n",
    "Vd = Vt.T[:, :d]\n",
    "Sigma_d = np.diag(s[:d])\n",
    "\n",
    "Z = Ud @ Sigma_d\n",
    "\n",
    "plt.plot(s**2, 'o')\n",
    "\n",
    "plt.ylabel(\"Singular values\")\n"
   ]
  },
  {
   "cell_type": "code",
   "execution_count": null,
   "id": "16488b9a",
   "metadata": {},
   "outputs": [],
   "source": [
    "\n",
    "plt.figure(figsize=(10, 7))\n",
    "\n",
    "plt.scatter(Z[:, 0], Z[:, 1], c=\"blue\", s=10, alpha=0.5, edgecolor=\"black\")\n",
    "\n",
    "\n",
    "##countries_to_plot = [\"United States\", \"Japan\", \"United Kingdom\", \"Egypt\", \"Singapore\"]\n",
    "\n",
    "for i, txt in enumerate(countries['country']):\n",
    "    plt.text(Z[i, 0], Z[i, 1], txt, fontsize=7)\n",
    "    \n",
    "    ##if txt in countries_to_plot:\n",
    "    ##    plt.text(Z[i, 0], Z[i, 1], txt, fontsize=10)\n",
    "        \n",
    "\n",
    "plt.xlabel(\"First PC\")\n",
    "plt.ylabel(\"Second PC\")\n",
    "\n",
    "plt.savefig('country_pca.pdf')\n"
   ]
  },
  {
   "cell_type": "code",
   "execution_count": null,
   "id": "56eae3aa",
   "metadata": {},
   "outputs": [],
   "source": [
    "plt.figure(figsize=(8, 6))\n",
    "\n",
    "plt.scatter(Vd[:, 0], Vd[:, 1], c='red', edgecolor='black', s=50, alpha=0.5)\n",
    "\n",
    "for i, txt in enumerate(feats):\n",
    "    plt.text(Vd[i, 0], Vd[i, 1], txt, fontsize=10, ha='center')\n",
    "    "
   ]
  },
  {
   "cell_type": "code",
   "execution_count": null,
   "id": "2056cebc",
   "metadata": {},
   "outputs": [],
   "source": []
  }
 ],
 "metadata": {
  "kernelspec": {
   "display_name": "Python 3 (ipykernel)",
   "language": "python",
   "name": "python3"
  },
  "language_info": {
   "codemirror_mode": {
    "name": "ipython",
    "version": 3
   },
   "file_extension": ".py",
   "mimetype": "text/x-python",
   "name": "python",
   "nbconvert_exporter": "python",
   "pygments_lexer": "ipython3",
   "version": "3.8.17"
  }
 },
 "nbformat": 4,
 "nbformat_minor": 5
}
