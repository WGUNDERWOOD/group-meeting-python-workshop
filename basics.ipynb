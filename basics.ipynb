{
 "cells": [
  {
   "cell_type": "code",
   "execution_count": null,
   "id": "6d82333e",
   "metadata": {},
   "outputs": [],
   "source": [
    "# Intro\n",
    "# Python is a general-purpose programming language\n",
    "# It has become very popular for data science and scientific computing\n",
    "\n",
    "# Why Python?\n",
    "#   Python is easy: simple syntax, closely related to English language\n",
    "#   Free and open-source software\n",
    "#   Well maintained: good documentation, bugs fixed quickly\n",
    "#   Huge ecosystem of packages (500k+), backed by corporations\n",
    "#   Multi-paradigm: functional, object-oriented, etc\n",
    "#   Dynamic typing and automatic memory management (GIL, RC, GC)\n",
    "# Compared to R, Python is seen as better for\n",
    "#   Handling large data sets\n",
    "#   Fitting and evaluating deep learning models\n",
    "#   General-purpose programming (scripting, web development, databases etc)\n",
    "# However\n",
    "#   R has more classical statistical packages (for now)\n",
    "#   R can be easier to use for visualisation\n",
    "\n",
    "# Overview of the workshop\n",
    "#   Basics: arithmetic, strings, lists, control flow, functions, Numpy, OOP\n",
    "#   Then a simple example application with visualisations\n",
    "#   Min will do second half, show some more applied statistical examples\n",
    "#   Feel free to follow along on your own machine\n",
    "#   Stop me any time with questions!"
   ]
  },
  {
   "cell_type": "code",
   "execution_count": null,
   "id": "fcb89347",
   "metadata": {},
   "outputs": [],
   "source": [
    "a = 5\n",
    "print(type(a))\n",
    "b = 2.0\n",
    "print(type(b))\n",
    "int(b)\n",
    "float(a)"
   ]
  },
  {
   "cell_type": "code",
   "execution_count": null,
   "id": "6a02516f",
   "metadata": {},
   "outputs": [],
   "source": [
    "t = True\n",
    "f = False\n",
    "print(t or f)\n",
    "print(t and (not f))\n",
    "# this is a comment"
   ]
  },
  {
   "cell_type": "code",
   "execution_count": null,
   "id": "407ac8e9",
   "metadata": {},
   "outputs": [],
   "source": [
    "# Arithmetic\n",
    "print(a + b)\n",
    "print(a * b)\n",
    "print(a ** b) # exponentiation"
   ]
  },
  {
   "cell_type": "code",
   "execution_count": null,
   "id": "920f8ba9",
   "metadata": {},
   "outputs": [],
   "source": [
    "# Strings\n",
    "s = 'hello'\n",
    "s1 = \"world\"\n",
    "print(s + s1)\n",
    "print(4 * s)\n",
    "\n",
    "n_days = 7\n",
    "print(f\"There are {n_days} days in a week\")"
   ]
  },
  {
   "cell_type": "code",
   "execution_count": null,
   "id": "08f24876",
   "metadata": {},
   "outputs": [],
   "source": [
    "# Lists\n",
    "numbers = [3, 4, 5, 6]\n",
    "# Python indexes from zero!\n",
    "print(numbers[0])\n",
    "print(numbers[3])\n",
    "# Index slices are [...)\n",
    "print(numbers[1:3])\n",
    "print(len(numbers))\n",
    "print(sum(numbers))"
   ]
  },
  {
   "cell_type": "code",
   "execution_count": null,
   "id": "c3f3a478",
   "metadata": {},
   "outputs": [],
   "source": [
    "# Tuples\n",
    "t = (1, 2, 3)"
   ]
  },
  {
   "cell_type": "code",
   "execution_count": null,
   "id": "88e36431",
   "metadata": {},
   "outputs": [],
   "source": [
    "# Mutating lists\n",
    "numbers[2] = 10\n",
    "print(numbers)\n",
    "numbers[1:3] = [20, 21]\n",
    "print(numbers)"
   ]
  },
  {
   "cell_type": "code",
   "execution_count": null,
   "id": "af03c804",
   "metadata": {},
   "outputs": [],
   "source": [
    "print(3 * numbers)\n",
    "print(numbers + numbers)"
   ]
  },
  {
   "cell_type": "code",
   "execution_count": null,
   "id": "d0daff80",
   "metadata": {},
   "outputs": [],
   "source": [
    "# List comprehension\n",
    "print(numbers)\n",
    "big_numbers = [n for n in numbers if n > 7]\n",
    "print(big_numbers)\n",
    "big_square_numbers = [n ** 2 for n in numbers if n > 7]\n",
    "print(big_square_numbers)\n",
    "cube_even_square_odd_numbers = [n ** 3 if n % 2 == 0 else n ** 2 for n in numbers]\n",
    "print(cube_even_square_odd_numbers)"
   ]
  },
  {
   "cell_type": "code",
   "execution_count": null,
   "id": "e13ab6e0",
   "metadata": {},
   "outputs": [],
   "source": [
    "if 6 > 4:\n",
    "    print(\"Yes\")\n",
    "    \n",
    "for i in range(4):\n",
    "    print(i)"
   ]
  },
  {
   "cell_type": "code",
   "execution_count": null,
   "id": "ec3bd7aa",
   "metadata": {},
   "outputs": [],
   "source": [
    "for n in numbers:\n",
    "    if n > 6:\n",
    "        print(n)"
   ]
  },
  {
   "cell_type": "code",
   "execution_count": null,
   "id": "bf97cfdc",
   "metadata": {},
   "outputs": [],
   "source": [
    "# Functions\n",
    "def add_and_square(x, y):\n",
    "    z = x + y\n",
    "    return z ** 2\n",
    "\n",
    "add_and_square(3, 4)"
   ]
  },
  {
   "cell_type": "code",
   "execution_count": null,
   "id": "cf2c0c97",
   "metadata": {},
   "outputs": [],
   "source": [
    "import numpy as np"
   ]
  },
  {
   "cell_type": "code",
   "execution_count": null,
   "id": "a52c50d6",
   "metadata": {},
   "outputs": [],
   "source": [
    "a = np.array([[1, 2, 3], [5, 6, 8]])\n",
    "a[0:2,0:2]\n",
    "a.shape\n",
    "np.reshape(a, (6))\n",
    "np.linspace(1, 2, num=5)\n",
    "\n",
    "a + a\n",
    "a ** 2"
   ]
  },
  {
   "cell_type": "code",
   "execution_count": null,
   "id": "7742fd1d",
   "metadata": {},
   "outputs": [],
   "source": [
    "b = np.array([1,2,3])\n",
    "a @ b"
   ]
  },
  {
   "cell_type": "code",
   "execution_count": null,
   "id": "4c96f66a",
   "metadata": {},
   "outputs": [],
   "source": [
    "a.shape"
   ]
  },
  {
   "cell_type": "code",
   "execution_count": null,
   "id": "4106669d",
   "metadata": {},
   "outputs": [],
   "source": [
    "# Objects\n",
    "class Person:\n",
    "    \n",
    "    def __init__(self, first_name, last_name, age):\n",
    "        self.first_name = first_name\n",
    "        self.last_name = last_name\n",
    "        self.age = age\n",
    "    \n",
    "    def get_full_name(self):\n",
    "        return f\"{self.first_name} {self.last_name}\"\n",
    "    \n",
    "    def get_age_in_year(self, year):\n",
    "        return self.age + year - 2024\n",
    "    \n",
    "    def make_older(self):\n",
    "        self.age = self.age + 1\n",
    "        \n",
    "will = Person(\"Will\", \"Underwood\", 27)\n",
    "print(will.first_name)\n",
    "print(will.get_full_name())\n",
    "print(will.get_age_in_year(2050))\n",
    "print(will.age)\n",
    "will.make_older()\n",
    "will.make_older()\n",
    "print(will.age)\n"
   ]
  }
 ],
 "metadata": {
  "kernelspec": {
   "display_name": "Python 3 (ipykernel)",
   "language": "python",
   "name": "python3"
  },
  "language_info": {
   "codemirror_mode": {
    "name": "ipython",
    "version": 3
   },
   "file_extension": ".py",
   "mimetype": "text/x-python",
   "name": "python",
   "nbconvert_exporter": "python",
   "pygments_lexer": "ipython3",
   "version": "3.10.5"
  }
 },
 "nbformat": 4,
 "nbformat_minor": 5
}
