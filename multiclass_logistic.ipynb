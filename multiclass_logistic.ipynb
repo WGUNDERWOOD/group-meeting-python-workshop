{
 "cells": [
  {
   "cell_type": "markdown",
   "metadata": {},
   "source": [
    "## Multi-class classification"
   ]
  },
  {
   "cell_type": "code",
   "execution_count": null,
   "metadata": {},
   "outputs": [],
   "source": [
    "import numpy as np\n",
    "import pandas as pd\n",
    "\n",
    "# Load the votes data\n",
    "votes = pd.read_csv('votes.csv')\n",
    "\n",
    "# keep only counties in CA, TX, and NY\n",
    "votes = votes[votes['state_abbr'].isin(['CA', 'TX', 'NY', 'PA'])]\n",
    "\n",
    "## tabulate number of counties in each state\n",
    "votes['state_abbr'].value_counts()"
   ]
  },
  {
   "cell_type": "code",
   "execution_count": null,
   "metadata": {},
   "outputs": [],
   "source": [
    "from sklearn.linear_model import LogisticRegression\n",
    "from sklearn.model_selection import train_test_split\n",
    "from sklearn.preprocessing import StandardScaler\n",
    "\n",
    "features = [\"white\", \"hispanic\", \"poverty\", \"bachelor\", \"highschool\", \n",
    "            \"age18under\", \"female\", \"landarea\"]\n",
    "\n",
    "\n",
    "\n",
    "# split the data into training and test sets\n",
    "X = votes[features]\n",
    "Y = votes['state_abbr']\n",
    "\n",
    "X_train, X_test, y_train, y_test = train_test_split(X, Y, test_size=0.2, random_state=0)\n",
    "\n",
    "scaler = StandardScaler()\n",
    "scaler.fit(X_train)\n",
    "X_train = scaler.transform(X_train)\n",
    "X_test = scaler.transform(X_test)\n",
    "\n",
    "# fit the model\n",
    "model = LogisticRegression(multi_class='multinomial', solver='newton-cg')\n",
    "model.fit(X_train, y_train)\n",
    "\n"
   ]
  },
  {
   "cell_type": "code",
   "execution_count": null,
   "metadata": {},
   "outputs": [],
   "source": [
    "\n",
    "\n",
    "print(model.classes_)\n",
    "\n",
    "# make predictions\n",
    "y_pred = model.predict(X_test)\n",
    "\n",
    "# get misclassification error\n",
    "err = np.mean(y_pred != y_test)\n",
    "print(f'misclassification error: {err:.3f}')\n",
    "\n",
    "# baseline error of predicting TX for all\n",
    "baseline_err = np.mean(y_test != 'TX')\n",
    "print(f'baseline error: {baseline_err:.3f}')\n",
    "\n",
    "## get coefficients\n",
    "coefficients = model.coef_\n",
    "intercept = model.intercept_\n",
    "\n",
    "## Compare coefficients\n",
    "print(\"\")\n",
    "diff_coef = coefficients[1] - coefficients[3]\n",
    "for j in range(len(features)):\n",
    "    print(f'{features[j]}: {diff_coef[j]}')\n",
    "\n"
   ]
  }
 ],
 "metadata": {
  "kernelspec": {
   "display_name": "msds534",
   "language": "python",
   "name": "python3"
  },
  "language_info": {
   "codemirror_mode": {
    "name": "ipython",
    "version": 3
   },
   "file_extension": ".py",
   "mimetype": "text/x-python",
   "name": "python",
   "nbconvert_exporter": "python",
   "pygments_lexer": "ipython3",
   "version": "3.10.13"
  }
 },
 "nbformat": 4,
 "nbformat_minor": 2
}
