{
 "cells": [
  {
   "cell_type": "code",
   "execution_count": null,
   "id": "d3354ffb",
   "metadata": {},
   "outputs": [],
   "source": [
    "import numpy as np\n",
    "import pandas as pd\n",
    "import matplotlib.pyplot as plt\n",
    "\n",
    "# Read in the Boston housing data\n",
    "df = pd.read_csv(\"boston.csv\")\n",
    "print(df)\n",
    "print(df.columns)\n",
    "# Add unit column for regression intercept\n",
    "df[\"ONE\"] = 1\n",
    "# Choose some covariates\n",
    "x_cols = [\"ONE\", \"CRIM\", \"AGE\", \"TAX\"]\n",
    "# Response variable is (log) median price\n",
    "y_col = \"MEDV\"\n",
    "# Drop unnecessary columns\n",
    "df = df[x_cols + [y_col]]\n",
    "# Drop rows with missing entries\n",
    "df = df.dropna()\n",
    "# Set up design matrix and response vector\n",
    "X = df[x_cols]\n",
    "Y = np.log(df[y_col])\n",
    "\n",
    "def fit_lm_beta_hat(X, Y):\n",
    "    # Matrix operations to find (X.T X)^(-1) X.T Y\n",
    "    K = X.T @ X\n",
    "    return np.linalg.inv(K) @ X.T @ Y\n",
    "\n",
    "def get_fitted_values(X, beta_hat):\n",
    "    # Compute X beta_hat\n",
    "    return X @ np.array(beta_hat)\n",
    "\n",
    "beta_hat = fit_lm_beta_hat(X, Y)\n",
    "print(beta_hat)\n",
    "fitted_values = get_fitted_values(X, beta_hat)\n",
    "residuals = Y - fitted_values\n",
    "\n",
    "# Histogram of responses\n",
    "(fig, ax) = plt.subplots(figsize=(5, 5))\n",
    "plt.hist(Y)\n",
    "\n",
    "# Residuals vs fitted values plot\n",
    "(fig, ax) = plt.subplots(figsize=(5, 5))\n",
    "plt.scatter(fitted_values, residuals, color=\"red\", marker=\"x\", s=40.0)\n",
    "plt.xlim([1, 4])\n",
    "plt.xlabel(\"Fitted values\")\n",
    "plt.ylabel(\"Residuals\")\n",
    "plt.title(\"Residuals vs. Fitted Values\")\n",
    "# Can also save as pdf etc\n",
    "plt.savefig(\"plot.png\")\n"
   ]
  }
 ],
 "metadata": {
  "kernelspec": {
   "display_name": "Python 3 (ipykernel)",
   "language": "python",
   "name": "python3"
  },
  "language_info": {
   "codemirror_mode": {
    "name": "ipython",
    "version": 3
   },
   "file_extension": ".py",
   "mimetype": "text/x-python",
   "name": "python",
   "nbconvert_exporter": "python",
   "pygments_lexer": "ipython3",
   "version": "3.10.5"
  }
 },
 "nbformat": 4,
 "nbformat_minor": 5
}
